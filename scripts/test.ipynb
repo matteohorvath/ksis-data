{
 "cells": [
  {
   "cell_type": "code",
   "execution_count": 16,
   "metadata": {},
   "outputs": [
    {
     "name": "stdout",
     "output_type": "stream",
     "text": [
      "['2024.02.10', 'II. Szoldance Kupa, E Hattánc, D Nyolctánc Országos Bajnokság, Felnőtt-Ifjúsági Latin Ranglista', ' 5000 Szolnok, Hild János tér 1.', ' 2024.02.05']\n",
      "['2024.03.09', 'Tíztánc - Nyolctánc Magyar Bajnokságok, Klubközi táncverseny', ' 9700 Szombathely, Március 15. tér 5.', ' 2024.03.04']\n",
      "['2024.04.21', 'Ametiszt Kupa', ' Kaposvár Városi Sportcsarnok 7400 Kaposvár Arany János út  97', ' 2024.04.15']\n",
      "['2024.05.04', 'Botafogo Kupa U21 Standard, Latin és Kűr Magyar Bajnokságok, és Klubközi táncversenyek', ' Kozma István Sport – és Rendezvényközpont, 1213 Budapest, Hollandi út 8.', ' 2024.04.29']\n",
      "['2024.09.07', 'E Országos Bajnokság, U21 10 Tánc Magyar Bajnokság és Klubközi Verseny', ' Csömöri Sportcsarnok. (2141.Csömör, Major út 7-9.)', ' 2024.09.02']\n",
      "['2024.10.26', 'Felnőtt-Ifjúsági tíztánc, Junior latin, Senior tíztánc, Profi standard RL', ' 9700 Szombathely, Március 15 tér 5. AGORA Művelődési és Sportház', ' 2024.10.21']\n",
      "['2024.11.30', 'B-A-S és Senior Open Országos Bajnokság és Klubközi Táncverseny', ' Balmazújvárosi Rendezvénycsarnok 4060 Balmazújváros, Kastélykert utca 3.', ' 2024.11.25']\n"
     ]
    }
   ],
   "source": [
    "import pandas as pd\n",
    "from bs4 import BeautifulSoup\n",
    "import glob \n",
    "\n",
    "years = glob.glob(\"../data/years/*\")\n",
    "print(years)\n",
    "\n",
    "\n",
    "with open(\"../data/upcoming.html\", \"r\") as f:\n",
    "    html = f.read()\n",
    "    soup = BeautifulSoup(html, \"html.parser\")\n",
    "    table = soup.find_all(\"table\")\n",
    "    for t in table:\n",
    "        tds = t.find_all(\"td\")\n",
    "        i = 0\n",
    "        date = \"\"\n",
    "        title = \"\"\n",
    "        organiser = \"\"\n",
    "        place = \"\"\n",
    "        deadline = \"\"\n",
    "        for td in tds:\n",
    "            strongs = td.find_all(\"strong\")\n",
    "            for x in range(len(strongs)):\n",
    "                if i%2==0:\n",
    "                    date = strongs[0].text\n",
    "                else:\n",
    "                    title = strongs[0].text\n",
    "                    organiser = strongs[1].text.split(\":\")[1]\n",
    "                    place = strongs[2].text.split(\":\")[1]\n",
    "                    deadline = strongs[3].text.split(\":\")[1]\n",
    "\n",
    "                    \n",
    "                    break\n",
    "\n",
    "            i += 1"
   ]
  },
  {
   "cell_type": "code",
   "execution_count": 29,
   "metadata": {},
   "outputs": [
    {
     "name": "stdout",
     "output_type": "stream",
     "text": [
      "351\n"
     ]
    }
   ],
   "source": [
    "import pandas as pd\n",
    "from bs4 import BeautifulSoup\n",
    "from datetime import datetime \n",
    "import glob \n",
    "years = glob.glob(\"../data/years/*\")\n",
    "\n",
    "comps = []\n",
    "for y in years:\n",
    "    with open(y, \"r\") as f:\n",
    "        html = f.read()\n",
    "        soup = BeautifulSoup(html, \"html.parser\")\n",
    "        table = soup.find_all(\"table\")\n",
    "        for t in table:\n",
    "            #month level\n",
    "            trs = t.find_all(\"tr\")\n",
    "            for tr in trs:\n",
    "                #competition level\n",
    "                #print(tr.prettify())\n",
    "                a_s = tr.find_all(\"a\")\n",
    "                strongs = tr.find_all(\"strong\")\n",
    "                comp_date = datetime.strptime( strongs[0].text.replace(\" \",\"\"), '%Y.%m.%d')\n",
    "                comp_title = strongs[1].text\n",
    "                comp_place = strongs[2].text.split(\":\")[1]\n",
    "                comp_categories = []\n",
    "                #print(len(a_s))\n",
    "                for a in range(1,len(a_s)):\n",
    "                    #competition detail level\n",
    "                    comp_categories.append(a_s[a].text)\n",
    "                #print(comp_date, comp_title, comp_place, comp_categories)\n",
    "                comps.append([comp_date, comp_title, comp_place, comp_categories])\n",
    "\n",
    "print(len(comps))\n",
    "\n"
   ]
  },
  {
   "cell_type": "code",
   "execution_count": null,
   "metadata": {},
   "outputs": [],
   "source": []
  }
 ],
 "metadata": {
  "kernelspec": {
   "display_name": "Python 3",
   "language": "python",
   "name": "python3"
  },
  "language_info": {
   "codemirror_mode": {
    "name": "ipython",
    "version": 3
   },
   "file_extension": ".py",
   "mimetype": "text/x-python",
   "name": "python",
   "nbconvert_exporter": "python",
   "pygments_lexer": "ipython3",
   "version": "3.10.11"
  }
 },
 "nbformat": 4,
 "nbformat_minor": 2
}
